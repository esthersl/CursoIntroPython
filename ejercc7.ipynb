{
 "cells": [
  {
   "cell_type": "code",
   "execution_count": 5,
   "metadata": {},
   "outputs": [],
   "source": [
    "new_planet = ''\n",
    "planets = []"
   ]
  },
  {
   "cell_type": "code",
   "execution_count": 6,
   "metadata": {},
   "outputs": [],
   "source": [
    "# Escribe el ciclo while solicitado\n",
    "\n",
    "while new_planet.lower() != 'done':\n",
    "    if new_planet:\n",
    "        planets.append(new_planet)\n",
    "    new_planet = input('Enter a new planet ')"
   ]
  },
  {
   "cell_type": "code",
   "execution_count": 7,
   "metadata": {},
   "outputs": [
    {
     "name": "stdout",
     "output_type": "stream",
     "text": [
      "abril\n",
      "tierra, marte, luna\n",
      "azul, morado\n",
      "luz, agua, \n"
     ]
    }
   ],
   "source": [
    "# Escribe tu ciclo for para iterar en una lista de planetas\n",
    "\n",
    "for planet in planets:\n",
    "    print(planet)"
   ]
  },
  {
   "cell_type": "code",
   "execution_count": 8,
   "metadata": {},
   "outputs": [],
   "source": [
    "user_input = ''\n",
    "\n",
    "while user_input.lower() != 'done':\n",
    "    user_input = input('Enter a new value, or done when done')"
   ]
  },
  {
   "cell_type": "code",
   "execution_count": 10,
   "metadata": {},
   "outputs": [
    {
     "name": "stdout",
     "output_type": "stream",
     "text": [
      "azul,morado,verde.persona,done\n",
      "done\n"
     ]
    }
   ],
   "source": [
    "# Creamos la variable que almacena el texto\n",
    "user_input = ''\n",
    "# Creamos la lista que almacena cada uno de los textos que el usuario ingresa\n",
    "inputs = []\n",
    "\n",
    "# Ciclo while\n",
    "while user_input.lower() != 'done':\n",
    "    # Verificamos si hay un valor en user_input\n",
    "    if user_input:\n",
    "        # Almacenamos ese valor en la lista\n",
    "        inputs.append(user_input)\n",
    "    # Capturamos un nuevo valor\n",
    "    user_input = input('Enter a new value, or done when done')\n",
    "    print(user_input)"
   ]
  },
  {
   "cell_type": "code",
   "execution_count": 11,
   "metadata": {},
   "outputs": [],
   "source": [
    "planets = [\"Mercury\", \"Venus\", \"Earth\", \"Mars\", \"Jupiter\", \"Saturn\", \"Uranus\", \"Neptune\"]"
   ]
  },
  {
   "cell_type": "code",
   "execution_count": 12,
   "metadata": {},
   "outputs": [
    {
     "name": "stdout",
     "output_type": "stream",
     "text": [
      "The first planet is  Mercury\n",
      "The second planet is  Venus\n",
      "The third planet is  Earth\n"
     ]
    }
   ],
   "source": [
    "print(\"The first planet is \", planets[0])\n",
    "print(\"The second planet is \", planets[1])\n",
    "print(\"The third planet is \", planets[2])"
   ]
  },
  {
   "cell_type": "code",
   "execution_count": 13,
   "metadata": {},
   "outputs": [
    {
     "name": "stdout",
     "output_type": "stream",
     "text": [
      "The first planet is  Neptune\n",
      "The second planet is  Uranus\n",
      "The third planet is  Saturn\n"
     ]
    }
   ],
   "source": [
    "print(\"The first planet is \", planets[-1])\n",
    "print(\"The second planet is \", planets[-2])\n",
    "print(\"The third planet is \", planets[-3])"
   ]
  },
  {
   "cell_type": "code",
   "execution_count": 15,
   "metadata": {},
   "outputs": [
    {
     "name": "stdout",
     "output_type": "stream",
     "text": [
      "The first planet is  Saturn\n"
     ]
    }
   ],
   "source": [
    "print(\"The first planet is \", planets[5])\n"
   ]
  },
  {
   "cell_type": "code",
   "execution_count": 16,
   "metadata": {},
   "outputs": [
    {
     "name": "stdout",
     "output_type": "stream",
     "text": [
      "4\n",
      "3\n",
      "2\n",
      "1\n",
      "0\n",
      "Blast off!! 🚀\n"
     ]
    }
   ],
   "source": [
    "countdown = [4, 3, 2, 1, 0]\n",
    "for number in countdown:\n",
    "    print(number)\n",
    "print(\"Blast off!! 🚀\")"
   ]
  },
  {
   "cell_type": "code",
   "execution_count": 18,
   "metadata": {},
   "outputs": [
    {
     "name": "stdout",
     "output_type": "stream",
     "text": [
      "5\n",
      "6\n",
      "9\n",
      "8\n",
      "10\n",
      "12\n",
      "15\n",
      "Blast off!! 🚀\n"
     ]
    }
   ],
   "source": [
    "countdown = [5,6,9,8,10,12,15]\n",
    "for number in countdown:\n",
    "    print(number)\n",
    "print(\"Blast off!! 🚀\")"
   ]
  },
  {
   "cell_type": "code",
   "execution_count": 19,
   "metadata": {},
   "outputs": [
    {
     "name": "stdout",
     "output_type": "stream",
     "text": [
      "4\n",
      "3\n",
      "2\n",
      "1\n",
      "0\n",
      "Blast off!! 🚀\n"
     ]
    }
   ],
   "source": [
    "# De la biblioteca time, importamos (traemos) la clase sleep\n",
    "\n",
    "from time import sleep\n",
    "\n",
    "# Creamos una lista de 5 números llamada countdown\n",
    "countdown = [4, 3, 2, 1, 0]\n",
    "\n",
    "# Para cada número en countdown\n",
    "for number in countdown:\n",
    "    #Muestra el número\n",
    "    print(number)\n",
    "\n",
    "    # Espera (1segundo)\n",
    "    sleep(1)\n",
    "\n",
    "# Muestra el mensaje Blast off\n",
    "print(\"Blast off!! 🚀\")"
   ]
  },
  {
   "cell_type": "code",
   "execution_count": null,
   "metadata": {},
   "outputs": [],
   "source": []
  }
 ],
 "metadata": {
  "interpreter": {
   "hash": "822e1af5210da3b2a971bf5efd8e95ebc2b596d759388df4438758f1fcb2462f"
  },
  "kernelspec": {
   "display_name": "Python 3.9.7 ('base')",
   "language": "python",
   "name": "python3"
  },
  "language_info": {
   "codemirror_mode": {
    "name": "ipython",
    "version": 3
   },
   "file_extension": ".py",
   "mimetype": "text/x-python",
   "name": "python",
   "nbconvert_exporter": "python",
   "pygments_lexer": "ipython3",
   "version": "3.9.7"
  },
  "orig_nbformat": 4
 },
 "nbformat": 4,
 "nbformat_minor": 2
}
